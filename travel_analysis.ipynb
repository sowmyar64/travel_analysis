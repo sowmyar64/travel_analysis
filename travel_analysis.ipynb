{
 "cells": [
  {
   "cell_type": "code",
   "execution_count": null,
   "id": "aeb73d0e",
   "metadata": {},
   "outputs": [],
   "source": [
    "import pandas as pd\n",
    "import warnings\n",
    "warnings.filterwarnings(\"ignore\")\n",
    "import matplotlib.pyplot as plt\n",
    "import seaborn as sns"
   ]
  },
  {
   "cell_type": "code",
   "execution_count": null,
   "id": "460bfbd2",
   "metadata": {},
   "outputs": [],
   "source": [
    "import sys\n",
    "\n",
    "# Define the file path as a variable\n",
    "csv_file = \"D:\\Data_Analytics\\Data_source\\extracted_data\\Travel\\Top_Indian_Places_tovisit.csv\"\n",
    "\n",
    "# Load the CSV file using the provided file path\n",
    "try:\n",
    "    data = pd.read_csv(csv_file)\n",
    "    print(\"CSV file loaded successfully!\")\n",
    "    # Now you can work with your data\n",
    "except FileNotFoundError:\n",
    "    print(f\"Error: File '{csv_file}' not found.\")"
   ]
  },
  {
   "cell_type": "code",
   "execution_count": null,
   "id": "6021009d",
   "metadata": {},
   "outputs": [],
   "source": [
    "# Display the first few rows of the dataframe\n",
    "data.head()"
   ]
  },
  {
   "cell_type": "code",
   "execution_count": null,
   "id": "e373e503",
   "metadata": {},
   "outputs": [],
   "source": [
    "#Remove unnecessary columns\n",
    "data_cleaned = data.drop(columns=['Unnamed: 0'])\n",
    "\n",
    "#Check data types\n",
    "data_cleaned.dtypes\n"
   ]
  },
  {
   "cell_type": "code",
   "execution_count": null,
   "id": "26c971c8",
   "metadata": {},
   "outputs": [],
   "source": [
    "#Check for missing values\n",
    "data_cleaned.isnull().sum()"
   ]
  },
  {
   "cell_type": "code",
   "execution_count": null,
   "id": "d1314f04",
   "metadata": {},
   "outputs": [],
   "source": [
    "# Convert 'Establishment Year' to numeric (errors='coerce' will set invalid parsing as NaN)\n",
    "data_cleaned['Establishment Year'] = pd.to_numeric(data_cleaned['Establishment Year'], errors='coerce')\n",
    "\n",
    "# Check for unique values in categorical columns to ensure consistency\n",
    "unique_zones = data_cleaned['Zone'].unique()\n",
    "unique_types = data_cleaned['Type'].unique()\n",
    "unique_weekly_off = data_cleaned['Weekly Off'].unique()\n",
    "unique_significance = data_cleaned['Significance'].unique()\n",
    "unique_dslr_allowed = data_cleaned['DSLR Allowed'].unique()\n",
    "unique_best_time_to_visit = data_cleaned['Best Time to visit'].unique()\n",
    "\n",
    "(unique_zones, unique_types, unique_weekly_off, unique_significance, unique_dslr_allowed, unique_best_time_to_visit)"
   ]
  },
  {
   "cell_type": "code",
   "execution_count": null,
   "id": "228f4ce6",
   "metadata": {},
   "outputs": [],
   "source": [
    "# Cleanup Steps\n",
    "# 1. Type Consistency: Simplify by combining similar categories\n",
    "data_cleaned['Type'] = data_cleaned['Type'].replace({'Temples': 'Temple', 'Tombs': 'Tomb'})\n",
    "\n",
    "# 2. Weekly Off Correction: Assuming 'Yes' is an error and without clear indication of what it should be, we can set it to NaN\n",
    "data_cleaned['Weekly Off'] = data_cleaned['Weekly Off'].replace('Yes', None)\n",
    "\n",
    "# 3. Best Time to Visit Consistency: Normalize values\n",
    "data_cleaned['Best Time to visit'] = data_cleaned['Best Time to visit'].str.strip()\n",
    "data_cleaned['Best Time to visit'] = data_cleaned['Best Time to visit'].replace({'Anytime': 'All'})\n",
    "\n",
    "# Re-check the corrected columns\n",
    "unique_types_corrected = data_cleaned['Type'].unique()\n",
    "unique_weekly_off_corrected = data_cleaned['Weekly Off'].unique()\n",
    "unique_best_time_to_visit_corrected = data_cleaned['Best Time to visit'].unique()\n",
    "(unique_types_corrected, unique_weekly_off_corrected, unique_best_time_to_visit_corrected)"
   ]
  },
  {
   "cell_type": "code",
   "execution_count": null,
   "id": "c952b709",
   "metadata": {},
   "outputs": [],
   "source": [
    "# Set the aesthetic style of the plots\n",
    "sns.set_style(\"whitegrid\")\n",
    "\n",
    "# Distribution of Landmarks by Zone\n",
    "plt.figure(figsize=(10, 6))\n",
    "sns.countplot(y='Zone', data=data_cleaned, order = data_cleaned['Zone'].value_counts().index)\n",
    "plt.title('Distribution of Landmarks by Zone')\n",
    "plt.xlabel('Number of Landmarks')\n",
    "plt.ylabel('Zone')\n",
    "plt.show()\n",
    "\n",
    "# Distribution of Landmarks by State (Top 10)\n",
    "plt.figure(figsize=(10, 6))\n",
    "state_counts = data_cleaned['State'].value_counts().head(10)\n",
    "sns.barplot(x=state_counts, y=state_counts.index)\n",
    "plt.title('Top 10 States by Number of Landmarks')\n",
    "plt.xlabel('Number of Landmarks')\n",
    "plt.ylabel('State')\n",
    "plt.show()\n",
    "\n",
    "# Types of Landmarks\n",
    "plt.figure(figsize=(10, 6))\n",
    "type_counts = data_cleaned['Type'].value_counts().head(20)\n",
    "sns.barplot(x=type_counts, y=type_counts.index)\n",
    "plt.title('Top 20 Types of Landmarks')\n",
    "plt.xlabel('Number of Landmarks')\n",
    "plt.ylabel('Type')\n",
    "plt.show()"
   ]
  },
  {
   "cell_type": "code",
   "execution_count": null,
   "id": "c73d9eae",
   "metadata": {},
   "outputs": [],
   "source": [
    "#Establishment Year Analysis\n",
    "#Filter out landmarks with missing or illogical establishment years\n",
    "establishment_years_filtered = data_cleaned[data_cleaned['Establishment Year'] > 0]['Establishment Year']\n",
    "\n",
    "plt.figure(figsize=(12, 8))\n",
    "sns.histplot(establishment_years_filtered, bins=30, kde=False)\n",
    "plt.title('Distribution of Establishment Years')\n",
    "plt.xlabel('Establishment Year')\n",
    "plt.ylabel('Number of Landmarks')\n",
    "plt.show()\n",
    "\n",
    "# 2. Review Ratings and Entrance Fees\n",
    "plt.figure(figsize=(12, 8))\n",
    "sns.scatterplot(data=data_cleaned, x='Google review rating', y='Entrance Fee in INR')\n",
    "plt.title('Review Ratings vs. Entrance Fees')\n",
    "plt.xlabel('Google Review Rating')\n",
    "plt.ylabel('Entrance Fee in INR')\n",
    "plt.show()\n",
    "\n"
   ]
  },
  {
   "cell_type": "code",
   "execution_count": null,
   "id": "183f0ed3",
   "metadata": {},
   "outputs": [],
   "source": [
    "#Time Needed to Visit\n",
    "plt.figure(figsize=(10, 6))\n",
    "sns.histplot(data_cleaned['time needed to visit in hrs'], bins=20, kde=True)\n",
    "plt.title('Distribution of Time Needed to Visit')\n",
    "plt.xlabel('Time Needed to Visit (hrs)')\n",
    "plt.ylabel('Number of Landmarks')\n",
    "plt.show()\n",
    "\n",
    "#Best Time to Visit\n",
    "plt.figure(figsize=(10, 6))\n",
    "best_time_counts = data_cleaned['Best Time to visit'].value_counts()\n",
    "sns.barplot(x=best_time_counts, y=best_time_counts.index)\n",
    "plt.title('Best Time to Visit Landmarks')\n",
    "plt.xlabel('Number of Landmarks')\n",
    "plt.ylabel('Best Time to Visit')\n",
    "plt.show()\n"
   ]
  },
  {
   "cell_type": "code",
   "execution_count": null,
   "id": "a22f1fca",
   "metadata": {},
   "outputs": [],
   "source": [
    "# Categorize landmarks into historical periods based on their establishment year\n",
    "conditions = [\n",
    "    (data_cleaned['Establishment Year'] <= 500),\n",
    "    (data_cleaned['Establishment Year'] > 500) & (data_cleaned['Establishment Year'] <= 1500),\n",
    "    (data_cleaned['Establishment Year'] > 1500) & (data_cleaned['Establishment Year'] <= 1857),\n",
    "    (data_cleaned['Establishment Year'] > 1857) & (data_cleaned['Establishment Year'] <= 1947),\n",
    "    (data_cleaned['Establishment Year'] > 1947)\n",
    "]\n",
    "choices = ['Ancient India', 'Medieval India', 'Early Modern India', 'Colonial India', 'Post-Independence']\n",
    "\n",
    "data_cleaned['Historical Era'] = pd.cut(data_cleaned['Establishment Year'], bins=[-float(\"inf\"), 500, 1500, 1857, 1947, float(\"inf\")], labels=choices, right=False)\n",
    "\n",
    "# Overview of landmarks by historical era\n",
    "era_distribution = data_cleaned['Historical Era'].value_counts()\n",
    "\n",
    "# Visualize the distribution of landmarks by historical era\n",
    "plt.figure(figsize=(10, 6))\n",
    "sns.barplot(x=era_distribution, y=era_distribution.index, palette='viridis')\n",
    "plt.title('Distribution of Landmarks by Historical Era')\n",
    "plt.xlabel('Number of Landmarks')\n",
    "plt.ylabel('Historical Era')\n",
    "plt.show()"
   ]
  },
  {
   "cell_type": "code",
   "execution_count": null,
   "id": "e4d7c81f",
   "metadata": {},
   "outputs": [],
   "source": [
    "#Number of Landmarks by State\n",
    "landmarks_by_state = data_cleaned.groupby('State')['Name'].count().sort_values(ascending=False)\n",
    "\n",
    "#Types of Landmarks by State (Top 5 States)\n",
    "top_5_states = landmarks_by_state.head(5).index\n",
    "for state in top_5_states:\n",
    "    plt.figure(figsize=(10, 6))\n",
    "    state_data = data_cleaned[data_cleaned['State'] == state]\n",
    "    state_types_count = state_data['Type'].value_counts().head(10)\n",
    "    sns.barplot(x=state_types_count, y=state_types_count.index)\n",
    "    plt.title(f'Top 10 Landmark Types in {state}')\n",
    "    plt.xlabel('Number of Landmarks')\n",
    "    plt.ylabel('Type')\n",
    "    plt.show()"
   ]
  },
  {
   "cell_type": "code",
   "execution_count": null,
   "id": "9e896cf0",
   "metadata": {},
   "outputs": [],
   "source": [
    "# Distribution of Landmarks by Cultural Significance\n",
    "significance_counts = data_cleaned['Significance'].value_counts()\n",
    "\n",
    "plt.figure(figsize=(12, 8))\n",
    "sns.barplot(x=significance_counts, y=significance_counts.index)\n",
    "plt.title('Distribution of Landmarks by Cultural Significance')\n",
    "plt.xlabel('Number of Landmarks')\n",
    "plt.ylabel('Cultural Significance')\n",
    "plt.show()\n",
    "\n"
   ]
  },
  {
   "cell_type": "code",
   "execution_count": null,
   "id": "2cee1ba5",
   "metadata": {},
   "outputs": [],
   "source": [
    "top_5_names = data_cleaned['Significance'].value_counts().head(5).index\n",
    "top_5_rating_place = data_cleaned[data_cleaned['Significance'].isin(top_5_names)]\n",
    "plt.figure(figsize=(12, 8))\n",
    "sns.countplot(x='Google review rating', hue='Significance', data=top_5_rating_place)\n",
    "plt.title('Top 5 Rated Place Types')\n",
    "plt.show()"
   ]
  },
  {
   "cell_type": "code",
   "execution_count": null,
   "id": "5601dd7a",
   "metadata": {},
   "outputs": [],
   "source": [
    "plt.figure(figsize=(25, 6))\n",
    "sns.barplot(x='State', y='Google review rating', data=data_cleaned, palette='viridis')\n",
    "plt.title('Average Google Review Rating by State')\n",
    "plt.xlabel('State')\n",
    "plt.ylabel('Average Google Review Rating')\n",
    "plt.xticks(rotation=45)\n",
    "plt.show()\n"
   ]
  },
  {
   "cell_type": "code",
   "execution_count": null,
   "id": "14fdc0ec",
   "metadata": {},
   "outputs": [],
   "source": [
    "plt.figure(figsize=(12, 8))\n",
    "sns.countplot(y='Significance',hue='DSLR Allowed',data=data_cleaned);"
   ]
  },
  {
   "cell_type": "code",
   "execution_count": null,
   "id": "7dc42d0f",
   "metadata": {},
   "outputs": [],
   "source": [
    "# Select relevant numerical variables for correlation analysis\n",
    "numerical_data = data_cleaned[['Establishment Year', 'time needed to visit in hrs', 'Google review rating', 'Entrance Fee in INR', 'Number of google review in lakhs']]\n",
    "\n",
    "# Calculate the correlation matrix\n",
    "correlation_matrix = numerical_data.corr()\n",
    "\n",
    "# Visualize the correlation matrix using a heatmap\n",
    "plt.figure(figsize=(10, 8))\n",
    "sns.heatmap(correlation_matrix, annot=True, cmap='coolwarm', fmt=\".2f\")\n",
    "plt.title('Correlation Matrix of Numerical Variables')\n",
    "plt.show()"
   ]
  },
  {
   "cell_type": "code",
   "execution_count": null,
   "id": "4139c2ed",
   "metadata": {},
   "outputs": [],
   "source": []
  }
 ],
 "metadata": {
  "kernelspec": {
   "display_name": "Python 3 (ipykernel)",
   "language": "python",
   "name": "python3"
  },
  "language_info": {
   "codemirror_mode": {
    "name": "ipython",
    "version": 3
   },
   "file_extension": ".py",
   "mimetype": "text/x-python",
   "name": "python",
   "nbconvert_exporter": "python",
   "pygments_lexer": "ipython3",
   "version": "3.9.7"
  }
 },
 "nbformat": 4,
 "nbformat_minor": 5
}
